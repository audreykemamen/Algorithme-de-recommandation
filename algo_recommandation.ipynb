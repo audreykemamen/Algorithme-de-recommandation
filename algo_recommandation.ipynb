{
 "cells": [
  {
   "cell_type": "code",
   "execution_count": null,
   "id": "d6622a4d",
   "metadata": {},
   "outputs": [],
   "source": [
    "#https://www.kaggle.com/datasets/rounakbanik/the-movies-dataset?resource=download&select=movies_metadata.csv\n",
    "#alternative links\n",
    "#https://www.kaggle.com/code/rohitshirudkar/movie-recommendation-system\n",
    "#"
   ]
  },
  {
   "cell_type": "markdown",
   "id": "62d8b1ac",
   "metadata": {},
   "source": [
    "# I - Content based filtering "
   ]
  },
  {
   "cell_type": "code",
   "execution_count": null,
   "id": "a8fb15ed",
   "metadata": {},
   "outputs": [],
   "source": [
    "import pandas as pd\n",
    "from ast import literal_eval\n",
    "from nltk.stem import PorterStemmer\n",
    "import seaborn as sns\n",
    "import matplotlib.pyplot as plt\n",
    "import warnings\n",
    "warnings.filterwarnings('ignore')\n",
    "\n",
    "pd.set_option(\"display.max_columns\", None)\n",
    "pd.set_option(\"display.width\", 500)\n",
    "pd.set_option(\"display.float_format\", lambda x: \"%.5f\" % x)\n",
    "pd.set_option('display.expand_frame_repr', False)"
   ]
  },
  {
   "cell_type": "markdown",
   "id": "c0fd4d45",
   "metadata": {},
   "source": [
    "## 1) Fetching dataset"
   ]
  },
  {
   "cell_type": "code",
   "execution_count": null,
   "id": "b5e2227f",
   "metadata": {},
   "outputs": [],
   "source": [
    "credits = pd.read_csv('credits.csv', low_memory=False)\n",
    "keywords = pd.read_csv('keywords.csv', low_memory=False)\n",
    "links = pd.read_csv('links.csv', low_memory=False)\n",
    "ratings = pd.read_csv('ratings.csv', low_memory=False)\n",
    "movies = pd.read_csv('movies_metadata.csv', low_memory=False)"
   ]
  },
  {
   "cell_type": "code",
   "execution_count": null,
   "id": "8464375e",
   "metadata": {},
   "outputs": [],
   "source": [
    "movies['id'] = movies['id'].str.extract('(\\d+)')\n",
    "movies['id'] = movies['id'].astype(float)\n",
    "movies['id'] = movies['id'].astype(int)\n",
    "credits.columns = ['cast','crew', 'id']\n",
    "movies = movies.merge(credits,on='id')\n",
    "\n",
    "keywords.columns = ['id', 'keywords']\n",
    "movies = movies.merge(keywords,on='id')\n"
   ]
  },
  {
   "cell_type": "code",
   "execution_count": null,
   "id": "3ed0fb31",
   "metadata": {},
   "outputs": [],
   "source": [
    "movies\n"
   ]
  },
  {
   "cell_type": "code",
   "execution_count": null,
   "id": "15332e73",
   "metadata": {},
   "outputs": [],
   "source": [
    "print(\"Number of movies and number of information per movie (movie, feature) : \",movies.shape,\"\\n\")\n",
    "movies.info()"
   ]
  },
  {
   "cell_type": "code",
   "execution_count": null,
   "id": "709f97ee",
   "metadata": {},
   "outputs": [],
   "source": [
    "# check null value in dataset\n",
    "movies.isnull().sum()"
   ]
  },
  {
   "cell_type": "code",
   "execution_count": null,
   "id": "2bca74ff",
   "metadata": {},
   "outputs": [],
   "source": [
    "# check for duplicate values\n",
    "movies.duplicated().sum()"
   ]
  },
  {
   "cell_type": "code",
   "execution_count": null,
   "id": "79f7798c",
   "metadata": {},
   "outputs": [],
   "source": [
    "# check for duplicate values\n",
    "movies['title'].duplicated().sum()"
   ]
  },
  {
   "cell_type": "markdown",
   "id": "79fcd102",
   "metadata": {},
   "source": [
    "## 3) Preprocessing data "
   ]
  },
  {
   "cell_type": "code",
   "execution_count": null,
   "id": "a9e9eb89",
   "metadata": {},
   "outputs": [],
   "source": [
    "movies.drop_duplicates(inplace=True)"
   ]
  },
  {
   "cell_type": "code",
   "execution_count": null,
   "id": "cc505a45",
   "metadata": {},
   "outputs": [],
   "source": [
    "movies['title'].drop_duplicates(inplace=True)"
   ]
  },
  {
   "cell_type": "code",
   "execution_count": null,
   "id": "de56eb07",
   "metadata": {},
   "outputs": [],
   "source": [
    "# Replace the Nan with ''\n",
    "movies.fillna('', inplace=True)\n",
    "# tagline\n",
    "movies['tagline'] = movies['tagline'].fillna('')\n"
   ]
  },
  {
   "cell_type": "markdown",
   "id": "89004743",
   "metadata": {},
   "source": [
    "## 4) Cleaning data"
   ]
  },
  {
   "cell_type": "code",
   "execution_count": null,
   "id": "eb51a3b1",
   "metadata": {},
   "outputs": [],
   "source": [
    "# dropping uneccessary feature\n",
    "data = movies.drop([\"homepage\", \"belongs_to_collection\", \"imdb_id\", \"poster_path\", \"status\", \"video\", \"spoken_languages\", \"title\"], axis=1)\n",
    "# get rid of duplicates with same release date\n",
    "data.drop_duplicates(subset=[\"original_title\",\"release_date\"], inplace=True)\n"
   ]
  },
  {
   "cell_type": "code",
   "execution_count": null,
   "id": "0d508c22",
   "metadata": {},
   "outputs": [],
   "source": [
    "stemmer = PorterStemmer()\n",
    "\n",
    "#extracting genre names\n",
    "data['genres'] = data['genres'].apply(literal_eval)\n",
    "data['genres'] = data['genres'].apply(lambda x : [i['name'] for i in x])\n",
    "data['genres'] = data['genres'].apply(lambda x : list(set(x)))\n",
    "#keywords\n",
    "data['keywords'] = data['keywords'].apply(literal_eval)\n",
    "data['keywords'] = data['keywords'].apply(lambda x : [i['name'] for i in x])\n",
    "data['keywords'] = data['keywords'].apply(lambda x: [stemmer.stem(i) for i in x])\n",
    "data['keywords'] = data['keywords'].apply(lambda x: [str.lower(i.replace(\" \", \"\")) for i in x])\n",
    "data['keywords'] = data['keywords'].apply(lambda x : list(set(x)))\n",
    "\n",
    "data['cast'] = data['cast'].apply(literal_eval)\n",
    "data['crew'] = data['crew'].apply(literal_eval)\n",
    "data['top_crew'] = data['cast'].apply(lambda x : [i['name'] for i in x])\n",
    "# Here we are taking top 2 crews\n",
    "data['top_crew'] = data['top_crew'].apply(lambda x : x[:2])\n",
    "\n",
    "# Geting director Name\n",
    "def get_director(x):\n",
    "    for i in x:\n",
    "        if i['job'] == 'Director':\n",
    "            return i['name']\n",
    "    return \"\"\n",
    "data['director'] = data['crew'].apply(get_director)\n",
    "imp_cols = ['tagline', 'genres' ,'original_language' ,'keywords' ,'top_crew','director']\n",
    "\n",
    "#-------------------------------------------------------------#\n",
    "#Extracting Digit from column\n",
    "data['budget']=data['budget'].str.extract('(\\d+)')\n",
    "data['budget']=data['budget'].astype(float)\n",
    "data['budget']=data['budget'].astype(int)\n",
    "rev = []\n",
    "for i in data['vote_count'].values:\n",
    "    if i != '':\n",
    "        rev.append(float(i))\n",
    "    else:\n",
    "        rev.append(0.0)\n",
    "    \n",
    "data['vote_count']=rev\n",
    "\n",
    "rev = []\n",
    "for i in data['vote_average'].values:\n",
    "    if i != '':\n",
    "        rev.append(float(i))\n",
    "    else:\n",
    "        rev.append(0.0)\n",
    "    \n",
    "data['vote_average']=rev\n",
    "\n",
    "rev = []\n",
    "for i in data['runtime'].values:\n",
    "    if i != '':\n",
    "        rev.append(float(i))\n",
    "    else:\n",
    "        rev.append(0.0)\n",
    "    \n",
    "data['runtime']=rev\n",
    "\n",
    "data = data.drop([\"cast\", \"crew\"], axis=1)"
   ]
  },
  {
   "cell_type": "markdown",
   "id": "d1aff8d0",
   "metadata": {},
   "source": [
    "### Display basic information "
   ]
  },
  {
   "cell_type": "code",
   "execution_count": null,
   "id": "b21bfbcb",
   "metadata": {},
   "outputs": [],
   "source": [
    "data.info()"
   ]
  },
  {
   "cell_type": "code",
   "execution_count": null,
   "id": "6b0fb4bf",
   "metadata": {},
   "outputs": [],
   "source": [
    "data"
   ]
  },
  {
   "cell_type": "code",
   "execution_count": null,
   "id": "d5c25efe",
   "metadata": {},
   "outputs": [],
   "source": [
    "data.to_csv('movies_complete_with_index.csv', index=True)"
   ]
  },
  {
   "cell_type": "code",
   "execution_count": null,
   "id": "8ecec8bc",
   "metadata": {},
   "outputs": [],
   "source": [
    "# Different Unique Genre count\n",
    "temp=[]\n",
    "for i in data['genres']:\n",
    "    for j in i:\n",
    "        temp.append(j)   # add it to temp list and get the unique genre using set\n",
    "unique_genre = list(set(temp))  \n",
    "movies_count = []\n",
    "\n",
    "for gen in unique_genre:\n",
    "    count=0\n",
    "    for i in data['genres']:\n",
    "        if gen in i:\n",
    "            count = count+1\n",
    "    movies_count.append([gen,count])  \n",
    "\n",
    "movies_count  \n",
    "\n",
    "data_genre = pd.DataFrame(data=movies_count,columns=['genre_name','count'])"
   ]
  },
  {
   "cell_type": "code",
   "execution_count": null,
   "id": "893f88e8",
   "metadata": {},
   "outputs": [],
   "source": [
    "#Find the Distribution of number of movies in each genre with bar graph\n",
    "plt.figure(figsize=(15,5),dpi=250)\n",
    "data_genre=data_genre.sort_values(by='count',ascending = False)\n",
    "sns.barplot(x=data_genre['genre_name'],y=data_genre['count'])\n",
    "plt.title('Top genres with most numbers of movies')\n",
    "#Change the rotation of xticks so it fits properly the chart\n",
    "plt.xticks(rotation = 90)\n",
    "plt.xlabel(\"Genre\", fontsize = 13)  # Set X label                              \n",
    "plt.ylabel(\"Movies Count\", fontsize = 11)  # Set Y label"
   ]
  },
  {
   "cell_type": "code",
   "execution_count": null,
   "id": "88212647",
   "metadata": {},
   "outputs": [],
   "source": [
    "#most voted Movie in the dataset\n",
    "data.sort_values(by=['vote_count'],ascending=False)[['original_title','vote_count']][:10]"
   ]
  },
  {
   "cell_type": "code",
   "execution_count": null,
   "id": "1bf965b7",
   "metadata": {},
   "outputs": [],
   "source": [
    "pd.set_option('mode.chained_assignment', None) #disabling SettingWithCopyWarning warning\n",
    "#Combining all required columns into Onecleaned_data1 = cleaned_data[imp_cols]\n",
    "cleaned_data = data[imp_cols]\n",
    "\n",
    "cleaned_data['tagline'] = cleaned_data['tagline'].apply(lambda x : [x])\n",
    "cleaned_data['original_language'] = cleaned_data['original_language'].apply(lambda x : [x])\n",
    "cleaned_data['director'] = cleaned_data['director'].apply(lambda x : [x])\n",
    "\n",
    "cleaned_data['combine'] = cleaned_data['genres'] + cleaned_data['original_language'] +\\\n",
    "                        cleaned_data['keywords'] + cleaned_data['top_crew'] +\\\n",
    "                        cleaned_data['director']\n",
    "cleaned_data['combine'] = cleaned_data['combine'].apply(lambda x: ' '.join(x))\n",
    "cleaned_data"
   ]
  },
  {
   "cell_type": "code",
   "execution_count": null,
   "id": "94b97a6d",
   "metadata": {},
   "outputs": [],
   "source": [
    "part_data = cleaned_data.head(20000)\n",
    "part_data"
   ]
  },
  {
   "cell_type": "code",
   "execution_count": null,
   "id": "8ba0e30b",
   "metadata": {},
   "outputs": [],
   "source": [
    "#Transformation of the data in required fashion using Count vectorizer making ngrams\n",
    "from sklearn.feature_extraction.text import CountVectorizer\n",
    "count = CountVectorizer(analyzer='word',ngram_range=(1, 2),min_df=0, stop_words='english')\n",
    "count_matrix = count.fit_transform(part_data['combine'])"
   ]
  },
  {
   "cell_type": "code",
   "execution_count": null,
   "id": "4b96e0e5",
   "metadata": {},
   "outputs": [],
   "source": [
    "from sklearn.metrics.pairwise import cosine_similarity\n",
    "cosine_sim = cosine_similarity(count_matrix, count_matrix)"
   ]
  },
  {
   "cell_type": "code",
   "execution_count": null,
   "id": "a8b01350",
   "metadata": {},
   "outputs": [],
   "source": [
    "data = data.reset_index()\n",
    "titles = data['original_title']\n",
    "indices = pd.Series(data.index, index=data['original_title'])\n"
   ]
  },
  {
   "cell_type": "code",
   "execution_count": null,
   "id": "93761508",
   "metadata": {},
   "outputs": [],
   "source": [
    "index_movie_id = data[['index','id']]"
   ]
  },
  {
   "cell_type": "code",
   "execution_count": null,
   "id": "8f0e205c",
   "metadata": {},
   "outputs": [],
   "source": [
    "def get_content_recommendations(title):\n",
    "    idx = indices[title]\n",
    "    sim_scores = list(enumerate(cosine_sim[idx]))\n",
    "    sim_scores = sorted(sim_scores, key=lambda x: x[1], reverse=True)\n",
    "    sim_scores = sim_scores[1:11]\n",
    "    movie_indices = [i[0] for i in sim_scores]\n",
    "    \n",
    "    movies = data.iloc[movie_indices][['original_title', 'vote_count', 'vote_average']]\n",
    "    \n",
    "    print(\"\\nRecommended movies for <<\", title, \">> are : \")\n",
    "    \n",
    "    return movies"
   ]
  },
  {
   "cell_type": "code",
   "execution_count": null,
   "id": "c1551ffb",
   "metadata": {},
   "outputs": [],
   "source": [
    "get_content_recommendations('Halo Legends')"
   ]
  },
  {
   "cell_type": "markdown",
   "id": "c8632e66",
   "metadata": {},
   "source": [
    "# II - Collaborative filtering"
   ]
  },
  {
   "cell_type": "code",
   "execution_count": null,
   "id": "2130d87b",
   "metadata": {},
   "outputs": [],
   "source": [
    "#https://www.kaggle.com/code/padmanabhanporaiyar/imdb-movies-all-types-of-recommender-system"
   ]
  },
  {
   "cell_type": "code",
   "execution_count": null,
   "id": "868aa8da",
   "metadata": {},
   "outputs": [],
   "source": [
    "from surprise import Dataset, Reader\n",
    "from surprise.prediction_algorithms.knns import KNNBasic\n",
    "from surprise import accuracy\n",
    "import numpy as np\n",
    "import plotly.express as px\n",
    "import plotly.graph_objects as go\n",
    "from tqdm import tqdm\n",
    "import random"
   ]
  },
  {
   "cell_type": "code",
   "execution_count": null,
   "id": "cecbec60",
   "metadata": {},
   "outputs": [],
   "source": [
    "# movie dataframe with votes more than 55\n",
    "movie_md = movies[movies['vote_count']>100][['id','original_title']]\n",
    "# IDs of movies with count more than 55\n",
    "movie_ids = [int(x) for x in movie_md['id'].values]\n",
    "\n",
    "# Select ratings of movies with more than 55 counts\n",
    "ratings = ratings[ratings['movieId'].isin(movie_ids)]\n",
    "\n",
    "# Reset Index\n",
    "ratings.reset_index(inplace=True, drop=True)\n",
    "\n",
    "ratings"
   ]
  },
  {
   "cell_type": "code",
   "execution_count": null,
   "id": "d1c140dd",
   "metadata": {},
   "outputs": [],
   "source": [
    "# Initialize a surprise reader object\n",
    "reader = Reader(line_format='user item rating', sep=',', rating_scale=(0,5), skip_lines=1)\n",
    "\n",
    "# Load the data\n",
    "data_md = Dataset.load_from_df(ratings[['userId','movieId','rating']], reader=reader)\n",
    "\n",
    "# Build trainset object(perform this only when you are using whole dataset to train)\n",
    "trainset = data_md.build_full_trainset()"
   ]
  },
  {
   "cell_type": "code",
   "execution_count": null,
   "id": "a080452c",
   "metadata": {},
   "outputs": [],
   "source": [
    "#Declaring the similarity options.\n",
    "sim_options = {'name': 'cosine',\n",
    "               'user_based': False}\n",
    "\n",
    "# KNN algorithm is used to find similar items\n",
    "sim_item = KNNBasic(sim_options=sim_options, verbose=False, random_state=33)\n",
    "\n",
    "# Train the algorithm on the trainset, and predict ratings for the testset\n",
    "sim_item.fit(trainset)"
   ]
  },
  {
   "cell_type": "code",
   "execution_count": null,
   "id": "e271a43e",
   "metadata": {},
   "outputs": [],
   "source": [
    "#predicting rating for a sample user with an interacted product.\n",
    "sim_item.predict(uid=2,iid=17,r_ui=5.0)\n",
    "\n",
    "sim_item.predict(uid=671,iid=4011,r_ui=4.0)"
   ]
  },
  {
   "cell_type": "code",
   "execution_count": null,
   "id": "c97326ca",
   "metadata": {},
   "outputs": [],
   "source": [
    "def get_collaborative_recommendations(user_id=1, top_n=5):\n",
    "    \n",
    "    # creating an empty list to store the recommended product ids\n",
    "    recommendations = []\n",
    "    \n",
    "    # creating an user item interactions matrix \n",
    "    user_movie_interactions_matrix = ratings.pivot(index='userId', columns='movieId', values='rating')\n",
    "    \n",
    "    # extracting those product ids which the user_id has not interacted yet\n",
    "    non_interacted_movies = user_movie_interactions_matrix.loc[user_id][user_movie_interactions_matrix.loc[user_id].isnull()].index.tolist()\n",
    "    \n",
    "    # looping through each of the product ids which user_id has not interacted yet\n",
    "    for item_id in non_interacted_movies:\n",
    "        \n",
    "        # predicting the ratings for those non interacted product ids by this user\n",
    "        est = sim_item.predict(user_id, item_id).est\n",
    "        # appending the predicted ratings\n",
    "        movie_name = movie_md[movie_md['id']==str(item_id)]['original_title'].values[0]\n",
    "        recommendations.append((movie_md['id'],est))\n",
    "\n",
    "    # sorting the predicted ratings in descending order\n",
    "    recommendations.sort(key=lambda x: x[1], reverse=True)\n",
    "\n",
    "    return recommendations[:top_n] # returning top n highest predicted rating products for this user"
   ]
  },
  {
   "cell_type": "code",
   "execution_count": null,
   "id": "c4dd5032",
   "metadata": {},
   "outputs": [],
   "source": [
    "get_collaborative_recommendations(random.randint(1, 270896))"
   ]
  },
  {
   "cell_type": "code",
   "execution_count": null,
   "id": "8ea08044",
   "metadata": {},
   "outputs": [],
   "source": []
  }
 ],
 "metadata": {
  "kernelspec": {
   "display_name": "Python 3",
   "language": "python",
   "name": "python3"
  },
  "language_info": {
   "codemirror_mode": {
    "name": "ipython",
    "version": 3
   },
   "file_extension": ".py",
   "mimetype": "text/x-python",
   "name": "python",
   "nbconvert_exporter": "python",
   "pygments_lexer": "ipython3",
   "version": "3.8.8"
  }
 },
 "nbformat": 4,
 "nbformat_minor": 5
}
